{
 "cells": [
  {
   "cell_type": "code",
   "execution_count": 1,
   "id": "outside-heating",
   "metadata": {},
   "outputs": [
    {
     "ename": "NameError",
     "evalue": "name 'tree' is not defined",
     "output_type": "error",
     "traceback": [
      "\u001b[1;31m---------------------------------------------------------------------------\u001b[0m",
      "\u001b[1;31mNameError\u001b[0m                                 Traceback (most recent call last)",
      "\u001b[1;32m<ipython-input-1-b0fee7ccb255>\u001b[0m in \u001b[0;36m<module>\u001b[1;34m\u001b[0m\n\u001b[0;32m      1\u001b[0m \u001b[1;31m#визуализируем дерево\u001b[0m\u001b[1;33m\u001b[0m\u001b[1;33m\u001b[0m\u001b[1;33m\u001b[0m\u001b[0m\n\u001b[0;32m      2\u001b[0m \u001b[1;32mfrom\u001b[0m \u001b[0msklearn\u001b[0m\u001b[1;33m.\u001b[0m\u001b[0mtree\u001b[0m \u001b[1;32mimport\u001b[0m \u001b[0mexport_graphviz\u001b[0m\u001b[1;33m\u001b[0m\u001b[1;33m\u001b[0m\u001b[0m\n\u001b[1;32m----> 3\u001b[1;33m export_graphviz(tree,out_file=\"tree.dot\",\n\u001b[0m\u001b[0;32m      4\u001b[0m                  \u001b[0mclass_names\u001b[0m\u001b[1;33m=\u001b[0m\u001b[1;33m[\u001b[0m\u001b[1;34m\"malignant\"\u001b[0m\u001b[1;33m,\u001b[0m\u001b[1;34m\"benign\"\u001b[0m\u001b[1;33m]\u001b[0m\u001b[1;33m,\u001b[0m\u001b[1;33m\u001b[0m\u001b[1;33m\u001b[0m\u001b[0m\n\u001b[0;32m      5\u001b[0m                  \u001b[0mfeature_names\u001b[0m\u001b[1;33m=\u001b[0m\u001b[0mcancer\u001b[0m\u001b[1;33m.\u001b[0m\u001b[0mfeature_names\u001b[0m\u001b[1;33m,\u001b[0m\u001b[1;33m\u001b[0m\u001b[1;33m\u001b[0m\u001b[0m\n",
      "\u001b[1;31mNameError\u001b[0m: name 'tree' is not defined"
     ]
    }
   ],
   "source": [
    "#визуализируем дерево\n",
    "from sklearn.tree import export_graphviz\n",
    "export_graphviz(tree,out_file=\"tree.dot\",\n",
    "                 class_names=[\"malignant\",\"benign\"],\n",
    "                 feature_names=cancer.feature_names,\n",
    "                 impurity=False,filled=True)\n",
    "import graphviz \n",
    "with open(\"tree.dot\")as f:\n",
    "    dot_graph=f.read()\n",
    "graphviz.Source(dot_graph)\n",
    "\n",
    "\n",
    "\n",
    "# пытаюсь в пдф\n",
    "from sklearn.model_selection import train_test_split\n",
    "from sklearn.datasets import load_breast_cancer\n",
    "from sklearn import tree\n",
    "cancer=load_breast_cancer()\n",
    "X_train,X_test,y_train,y_test=train_test_split(cancer.data,cancer.target,stratify=cancer.target,random_state=42)\n",
    "clf=tree.DecisionTreeClassifier(max_depth=4,random_state=0)\n",
    "clf=clf.fit(X_train,y_train)\n",
    "\n",
    "import pydotplus \n",
    "dot_data=tree.export_graphviz(clf,out_file=None)\n",
    "graph=pydotplus.graph_from_dot_data(dot_data)\n",
    "graph.write_pdf(\"cancer.pdf\")\n",
    "\n",
    "# пытаюсь через Ipython\n",
    "from IPython.display import Image\n",
    "dot_data=tree.export_graphviz(clf,out_file=None,\n",
    "                              feature_names=cancer.feature_names,\n",
    "                              class_names=cancer.target_names,\n",
    "                              filled=True,rounded=True,special_characters=True)\n",
    "graph=pydotplus.graph_from_dot_data(dot_data)\n",
    "Image(graph.create_png())\n",
    "\n",
    "#связь признака и класса\n",
    "from IPython.display import display\n",
    "display(tree)\n"
   ]
  },
  {
   "cell_type": "code",
   "execution_count": null,
   "id": "treated-russian",
   "metadata": {},
   "outputs": [],
   "source": []
  }
 ],
 "metadata": {
  "kernelspec": {
   "display_name": "Python 3",
   "language": "python",
   "name": "python3"
  },
  "language_info": {
   "codemirror_mode": {
    "name": "ipython",
    "version": 3
   },
   "file_extension": ".py",
   "mimetype": "text/x-python",
   "name": "python",
   "nbconvert_exporter": "python",
   "pygments_lexer": "ipython3",
   "version": "3.9.1"
  }
 },
 "nbformat": 4,
 "nbformat_minor": 5
}
