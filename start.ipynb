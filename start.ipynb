{
 "cells": [
  {
   "cell_type": "code",
   "execution_count": 1,
   "id": "reserved-valentine",
   "metadata": {},
   "outputs": [
    {
     "name": "stdout",
     "output_type": "stream",
     "text": [
      "версияPython: 3.9.1 (tags/v3.9.1:1e5d33e, Dec  7 2020, 17:08:21) [MSC v.1927 64 bit (AMD64)]\n",
      "версияpandas: 1.2.1\n",
      "версияmatplotlib: 3.3.4\n",
      "версияNumPy: 1.20.0\n",
      "версияSciPy: 1.6.0\n",
      "версияIPython: 7.20.0\n",
      "версияscikit-learn: 0.24.1\n"
     ]
    }
   ],
   "source": [
    "import sys\n",
    "import pandas\n",
    "import matplotlib\n",
    "import numpy\n",
    "import scipy\n",
    "import IPython\n",
    "import sklearn\n",
    "print(\"версия Python: {}\".format(sys.version))\n",
    "print(\"версия pandas: {}\".format(pandas.__version__))\n",
    "print(\"версия matplotlib: {}\".format(matplotlib.__version__))\n",
    "print(\"версия NumPy: {}\".format(numpy.__version__))\n",
    "print(\"версия SciPy: {}\".format(scipy.__version__))\n",
    "print(\"версия IPython: {}\".format(IPython.__version__))\n",
    "print(\"версия scikit-learn: {}\".format(sklearn.__version__))"
   ]
  },
  {
   "cell_type": "code",
   "execution_count": null,
   "id": "macro-handling",
   "metadata": {},
   "outputs": [],
   "source": []
  }
 ],
 "metadata": {
  "kernelspec": {
   "display_name": "Python 3",
   "language": "python",
   "name": "python3"
  },
  "language_info": {
   "codemirror_mode": {
    "name": "ipython",
    "version": 3
   },
   "file_extension": ".py",
   "mimetype": "text/x-python",
   "name": "python",
   "nbconvert_exporter": "python",
   "pygments_lexer": "ipython3",
   "version": "3.9.1"
  }
 },
 "nbformat": 4,
 "nbformat_minor": 5
}
